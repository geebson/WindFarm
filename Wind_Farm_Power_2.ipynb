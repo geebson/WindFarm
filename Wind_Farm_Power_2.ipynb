{
  "nbformat": 4,
  "nbformat_minor": 0,
  "metadata": {
    "colab": {
      "provenance": [],
      "authorship_tag": "ABX9TyNNVFfVRd9TiKADH1FO+SwM",
      "include_colab_link": true
    },
    "kernelspec": {
      "name": "python3",
      "display_name": "Python 3"
    },
    "language_info": {
      "name": "python"
    }
  },
  "cells": [
    {
      "cell_type": "markdown",
      "metadata": {
        "id": "view-in-github",
        "colab_type": "text"
      },
      "source": [
        "<a href=\"https://colab.research.google.com/github/geebson/WindFarm/blob/main/Wind_Farm_Power_2.ipynb\" target=\"_parent\"><img src=\"https://colab.research.google.com/assets/colab-badge.svg\" alt=\"Open In Colab\"/></a>"
      ]
    },
    {
      "cell_type": "code",
      "execution_count": null,
      "metadata": {
        "colab": {
          "base_uri": "https://localhost:8080/"
        },
        "id": "UVf2gfmKzXcQ",
        "outputId": "a9d7988d-5855-4805-8750-bf18fd704d09"
      },
      "outputs": [
        {
          "output_type": "stream",
          "name": "stdout",
          "text": [
            "['MOUNTAINAIR 8 NW, NM US' 'CLINES CORNERS, NM US'\n",
            " 'GRAHAM MUNICIPAL AIRPORT, TX US']\n"
          ]
        }
      ],
      "source": [
        "import pandas as pd\n",
        "url = \"https://raw.githubusercontent.com/geebson/WindFarm/main/US%20WindFarm%20Location.csv\"\n",
        "#key documentation link: https://eerscmap.usgs.gov/uswtdb/api-doc/#keyValue\n",
        "wind_df = pd.read_csv(url)\n",
        "#select features\n",
        "wind_df.head(5)\n",
        "select_df = wind_df[[\"p_name\", \"t_state\", \"t_county\", \"p_cap\", \"p_tnum\"]]\n",
        "select_df = select_df.dropna(axis=\"rows\",subset=\"p_cap\")\n",
        "select_df = select_df.drop_duplicates(subset=\"p_name\")\n",
        "select_df['efficiency'] = select_df['p_cap']/select_df['p_tnum']\n",
        "select_df = select_df.sort_values(by=[\"p_cap\"], ascending=False)\n",
        "select_df.head(10)\n",
        "#drop duplicate data\n",
        "select_df=select_df.drop([70614,27317])\n",
        "#print(select_df.head(10))\n",
        "\n",
        "#Weather data of these top 10 wind farms:\n",
        "weather_url = \"https://raw.githubusercontent.com/geebson/WindFarm/main/Top%2010%20WindFarm%20Weather.csv\"\n",
        "weather_df = pd.read_csv(weather_url)\n",
        "weather_df = weather_df.dropna(subset=\"AWND\")\n",
        "print(weather_df[\"NAME\"].unique())"
      ]
    }
  ]
}